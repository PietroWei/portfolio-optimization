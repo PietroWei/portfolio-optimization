{
 "cells": [
  {
   "cell_type": "code",
   "execution_count": 6,
   "id": "239e590e",
   "metadata": {},
   "outputs": [
    {
     "name": "stdout",
     "output_type": "stream",
     "text": [
      "Backtest error for Minimum Variance: No columns to parse from file\n",
      "Unable to compute backtest for selected models.\n"
     ]
    }
   ],
   "source": [
    "import matplotlib.pyplot as plt\n",
    "import pandas as pd\n",
    "from utils.backtesting import run_backtest  # Assuming this is a custom module for backtesting\n",
    "\n",
    "# Use correct case for rebalance frequency\n",
    "rebalance_freq = \"None\"\n",
    "include_rf = False\n",
    "models_selected = []\n",
    "models_selected.append(\"Minimum Variance\")\n",
    "#models_selected.append(\"Equal Weight\")\n",
    "\n",
    "# Function to load precomputed weights\n",
    "def load_weights(method):\n",
    "    # Assumes CSVs are named as 'minimum_variance_weights.csv', etc.\n",
    "    path = f\"data/{method}_weights.csv\"\n",
    "    df = pd.read_csv(path)\n",
    "    # If 'Date' is not a column but is the index, reset it\n",
    "    if 'Date' not in df.columns and df.index.name == 'Date':\n",
    "        df = df.reset_index()\n",
    "    # If wide format (Date as column, tickers as columns), set Date as index\n",
    "    if 'Date' in df.columns and 'Ticker' not in df.columns:\n",
    "        df = df.set_index('Date')\n",
    "    return df\n",
    "\n",
    "def load_returns():\n",
    "    return pd.read_csv(\"data/selected_stock_daily_returns.csv\", parse_dates=[\"Date\"])\n",
    "\n",
    "returns_df = load_returns()\n",
    "performance_dict = {}\n",
    "sp500_series = None\n",
    "\n",
    "# Try to extract S&P 500 returns if present\n",
    "if '^GSPC' in returns_df['Ticker'].unique():\n",
    "    sp500_df = returns_df[returns_df['Ticker'] == '^GSPC'].copy()\n",
    "    sp500_df = sp500_df.sort_values('Date')\n",
    "    sp500_df.set_index('Date', inplace=True)\n",
    "    sp500_cum = (1 + sp500_df['Daily Return']).cumprod()\n",
    "    sp500_series = sp500_cum.rename('S&P 500').to_frame()\n",
    "\n",
    "if not models_selected:\n",
    "    print(\"No models selected for backtesting. Please select at least one model.\")\n",
    "else:\n",
    "    for model in models_selected:\n",
    "        try:\n",
    "            weights_df = load_weights(model.replace(\" \", \"_\").lower())\n",
    "            # weights_df should be DataFrame with index as rebalance dates, columns as tickers, values as weights\n",
    "            perf = run_backtest(returns_df, weights_df, rebalance_freq=rebalance_freq, include_rf=include_rf)\n",
    "            performance_dict[model] = perf\n",
    "            print(model, \"backtest completed successfully.\")\n",
    "        except Exception as e:\n",
    "            print(f\"Backtest error for {model}: {e}\")\n",
    "\n",
    "    if performance_dict:\n",
    "        plt.figure(figsize=(10, 5))\n",
    "        for model, perf in performance_dict.items():\n",
    "            plt.plot(perf.index, perf['Portfolio'], label=model)\n",
    "        if sp500_series is not None:\n",
    "            plt.plot(sp500_series.index, sp500_series['S&P 500'], label='S&P 500', linestyle='--')\n",
    "        plt.xlabel('Date')\n",
    "        plt.ylabel('Cumulative Return')\n",
    "        plt.title('Backtest Results')\n",
    "        plt.legend()\n",
    "        plt.tight_layout()\n",
    "        plt.show()\n",
    "    else:\n",
    "        print(\"Unable to compute backtest for selected models.\")"
   ]
  }
 ],
 "metadata": {
  "kernelspec": {
   "display_name": "Python 3",
   "language": "python",
   "name": "python3"
  },
  "language_info": {
   "codemirror_mode": {
    "name": "ipython",
    "version": 3
   },
   "file_extension": ".py",
   "mimetype": "text/x-python",
   "name": "python",
   "nbconvert_exporter": "python",
   "pygments_lexer": "ipython3",
   "version": "3.12.1"
  }
 },
 "nbformat": 4,
 "nbformat_minor": 5
}
